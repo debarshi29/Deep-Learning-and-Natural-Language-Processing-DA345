{
 "cells": [
  {
   "cell_type": "markdown",
   "metadata": {},
   "source": [
    "# Implementing a simple two layers neural network\n",
    "In this exercise we will develop a two neural network with fully-connected layers to perform classification, and test it out on the MNIST dataset.\n"
   ]
  },
  {
   "cell_type": "code",
   "execution_count": 1,
   "metadata": {},
   "outputs": [],
   "source": [
    "\"\"\"\n",
    "-----------------------------------------------------------------------------\n",
    "A simple two layers neural network for handwritten digit classification (MNIST)\n",
    "-----------------------------------------------------------------------------\n",
    "AUTHOR: Soumitra Samanta (soumitra.samanta@gm.rkmvu.ac.in)\n",
    "-----------------------------------------------------------------------------\n",
    "\"\"\"\n",
    "import os\n",
    "import gzip\n",
    "import numpy as np\n",
    "import matplotlib.pyplot as plt\n",
    "import copy\n",
    "\n",
    "from first_nn_exc import *\n",
    "\n",
    "# for auto-reloading external modules\n",
    "# see http://stackoverflow.com/questions/1907993/autoreload-of-modules-in-ipython\n",
    "%load_ext autoreload\n",
    "%autoreload 2\n"
   ]
  },
  {
   "cell_type": "markdown",
   "metadata": {},
   "source": [
    "# Read MNIST data:\n",
    "You can download the data from [here](https://www.kaggle.com/datasets/hojjatk/mnist-dataset). There are many [way](https://stackoverflow.com/questions/40427435/extract-images-from-idx3-ubyte-file-or-gzip-via-python) you can read the MNIST data. Here is a [way](https://stackoverflow.com/a/62781370) to read all the information."
   ]
  },
  {
   "cell_type": "code",
   "execution_count": 2,
   "metadata": {},
   "outputs": [
    {
     "name": "stdout",
     "output_type": "stream",
     "text": [
      "Train data (X) size: (60000, 28, 28), and labels (Y) size: (60000,)\n",
      "Test data (X) size: (10000, 28, 28), and labels (Y) size: (10000,)\n"
     ]
    },
    {
     "data": {
      "image/png": "[encoded data removed]",
      "text/plain": [
       "<Figure size 640x480 with 1 Axes>"
      ]
     },
     "metadata": {},
     "output_type": "display_data"
    }
   ],
   "source": [
    "def read_images(filename):\n",
    "    \"\"\"Read MNIST images\"\"\"\n",
    "    \n",
    "    with gzip.open(filename, 'r') as f:\n",
    "        # first 4 bytes is a magic number\n",
    "        magic_number = int.from_bytes(f.read(4), 'big')\n",
    "        # second 4 bytes is the number of images\n",
    "        image_count = int.from_bytes(f.read(4), 'big')\n",
    "        # third 4 bytes is the row count\n",
    "        row_count = int.from_bytes(f.read(4), 'big')\n",
    "        # fourth 4 bytes is the column count\n",
    "        column_count = int.from_bytes(f.read(4), 'big')\n",
    "        # rest is the image pixel data, each pixel is stored as an unsigned byte\n",
    "        # pixel values are 0 to 255\n",
    "        image_data = f.read()\n",
    "        images = np.frombuffer(image_data, dtype=np.uint8).reshape((image_count, row_count, column_count))\n",
    "        \n",
    "    return images\n",
    "\n",
    "def read_labels(filename):\n",
    "    \"\"\"Read MNIST labels\"\"\"\n",
    "    \n",
    "    with gzip.open(filename, 'r') as f:\n",
    "        # first 4 bytes is a magic number\n",
    "        magic_number = int.from_bytes(f.read(4), 'big')\n",
    "        # second 4 bytes is the number of labels\n",
    "        label_count = int.from_bytes(f.read(4), 'big')\n",
    "        # rest is the label data, each label is stored as unsigned byte\n",
    "        # label values are 0 to 9\n",
    "        label_data = f.read()\n",
    "        labels = np.frombuffer(label_data, dtype=np.uint8)\n",
    "        \n",
    "    return labels\n",
    "\n",
    "\n",
    "dataset_path = r\"data\"\n",
    "\n",
    "train_image_filename = os.path.join(dataset_path, 'train-images-idx3-ubyte.gz')\n",
    "train_label_filename = os.path.join(dataset_path, 'train-labels-idx1-ubyte.gz')\n",
    "\n",
    "test_image_filename = os.path.join(dataset_path, 't10k-images-idx3-ubyte.gz')\n",
    "test_label_filename = os.path.join(dataset_path, 't10k-labels-idx1-ubyte.gz')\n",
    "\n",
    "train_images = read_images(train_image_filename)\n",
    "train_labels = read_labels(train_label_filename)\n",
    "\n",
    "print('Train data (X) size: {}, and labels (Y) size: {}' .format(train_images.shape, train_labels.shape))\n",
    "\n",
    "test_images = read_images(test_image_filename)\n",
    "test_labels = read_labels(test_label_filename)\n",
    "\n",
    "print('Test data (X) size: {}, and labels (Y) size: {}' .format(test_images.shape, test_labels.shape))\n",
    "\n",
    "\n",
    "\n",
    "rand_ids = np.random.choice(train_images.shape[0])\n",
    "plt.imshow(train_images[rand_ids, :, :], cmap='gray')\n",
    "plt.title('class-'+str(train_labels[rand_ids]))\n",
    "plt.show()\n",
    "\n"
   ]
  },
  {
   "cell_type": "markdown",
   "metadata": {},
   "source": [
    "# CROSS-CHECK: Create a validation data from training data (10%) and transform the data in $\\mathbf{R}^d$."
   ]
  },
  {
   "cell_type": "code",
   "execution_count": 3,
   "metadata": {},
   "outputs": [
    {
     "name": "stdout",
     "output_type": "stream",
     "text": [
      "Val data (X) size: (5999, 28, 28), and labels (Y) size: (5999,)\n",
      "After reshape\n",
      "\n",
      "Train data (X) size: (59990, 784), and labels (Y) size: (59990,)\n",
      "Val data (X) size: (5999, 784), and labels (Y) size: (5999,)\n",
      "Test data (X) size: (10000, 784), and labels (Y) size: (10000,)\n"
     ]
    }
   ],
   "source": [
    "val_data_ration = 0.1\n",
    "class_ids = list(set(train_labels))\n",
    "val_ids = []\n",
    "for cl in class_ids:\n",
    "    temp_val_index = np.where(train_labels==cl)\n",
    "    val_ids.extend(list(np.random.permutation(temp_val_index[0])[:round(temp_val_index[0].shape[0]*val_data_ration)]))\n",
    "# print(val_ids)     \n",
    "val_images = train_images[val_ids, :, :]  \n",
    "val_labels = train_labels[val_ids]  \n",
    "print('Val data (X) size: {}, and labels (Y) size: {}' .format(val_images.shape, val_labels.shape))\n",
    "\n",
    "train_ids = [i for i in range(train_labels.shape[0]) if i not in val_labels]\n",
    "revised_train_images = train_images[train_ids, :, :]  \n",
    "revised_train_labels = train_labels[train_ids]  \n",
    " \n",
    "X_train = revised_train_images.reshape(revised_train_images.shape[0], -1)\n",
    "Y_train = revised_train_labels.reshape(-1)\n",
    "X_val = val_images.reshape(val_images.shape[0], -1)\n",
    "Y_val = val_labels.reshape(-1)\n",
    "X_test = test_images.reshape(test_images.shape[0], -1)\n",
    "Y_test = test_labels.reshape(-1)\n",
    "\n",
    "print('After reshape\\n')\n",
    "print('Train data (X) size: {}, and labels (Y) size: {}' .format(X_train.shape, Y_train.shape))\n",
    "print('Val data (X) size: {}, and labels (Y) size: {}' .format(X_val.shape, Y_val.shape))\n",
    "print('Test data (X) size: {}, and labels (Y) size: {}' .format(X_test.shape, Y_test.shape))\n",
    "\n",
    "\n",
    "\n",
    "                        \n",
    "                        "
   ]
  },
  {
   "cell_type": "markdown",
   "metadata": {},
   "source": [
    "# Train a network\n",
    "To train our network we will use Stochastic Gradient Decent (SGD)."
   ]
  },
  {
   "cell_type": "code",
   "execution_count": 4,
   "metadata": {},
   "outputs": [
    {
     "name": "stdout",
     "output_type": "stream",
     "text": [
      "======================================================================\n",
      "Training epoch 1/(30)\n",
      "----------------------------------------------------------------------\n"
     ]
    },
    {
     "name": "stderr",
     "output_type": "stream",
     "text": [
      "iteration: 299 / (300), loss: 1.227203: 100%|██████████| 300/300 [00:01<00:00, 157.18it/s]\n"
     ]
    },
    {
     "name": "stdout",
     "output_type": "stream",
     "text": [
      "epoch: 1 / (30), loss: 1.758108, train acc: 83.35, val acc: 82.63\n",
      "======================================================================\n",
      "Training epoch 2/(30)\n",
      "----------------------------------------------------------------------\n"
     ]
    },
    {
     "name": "stderr",
     "output_type": "stream",
     "text": [
      "iteration: 299 / (300), loss: 0.782464: 100%|██████████| 300/300 [00:01<00:00, 197.60it/s]\n"
     ]
    },
    {
     "name": "stdout",
     "output_type": "stream",
     "text": [
      "epoch: 2 / (30), loss: 0.963451, train acc: 89.11, val acc: 88.75\n",
      "======================================================================\n",
      "Training epoch 3/(30)\n",
      "----------------------------------------------------------------------\n"
     ]
    },
    {
     "name": "stderr",
     "output_type": "stream",
     "text": [
      "iteration: 299 / (300), loss: 0.648228: 100%|██████████| 300/300 [00:01<00:00, 207.94it/s]\n"
     ]
    },
    {
     "name": "stdout",
     "output_type": "stream",
     "text": [
      "epoch: 3 / (30), loss: 0.654977, train acc: 90.31, val acc: 90.07\n",
      "======================================================================\n",
      "Training epoch 4/(30)\n",
      "----------------------------------------------------------------------\n"
     ]
    },
    {
     "name": "stderr",
     "output_type": "stream",
     "text": [
      "iteration: 299 / (300), loss: 0.445526: 100%|██████████| 300/300 [00:01<00:00, 207.38it/s]\n"
     ]
    },
    {
     "name": "stdout",
     "output_type": "stream",
     "text": [
      "epoch: 4 / (30), loss: 0.518801, train acc: 90.94, val acc: 90.52\n",
      "======================================================================\n",
      "Training epoch 5/(30)\n",
      "----------------------------------------------------------------------\n"
     ]
    },
    {
     "name": "stderr",
     "output_type": "stream",
     "text": [
      "iteration: 299 / (300), loss: 0.473437: 100%|██████████| 300/300 [00:01<00:00, 207.57it/s]\n"
     ]
    },
    {
     "name": "stdout",
     "output_type": "stream",
     "text": [
      "epoch: 5 / (30), loss: 0.444504, train acc: 91.47, val acc: 91.08\n",
      "======================================================================\n",
      "Training epoch 6/(30)\n",
      "----------------------------------------------------------------------\n"
     ]
    },
    {
     "name": "stderr",
     "output_type": "stream",
     "text": [
      "iteration: 299 / (300), loss: 0.321283: 100%|██████████| 300/300 [00:01<00:00, 206.12it/s]\n"
     ]
    },
    {
     "name": "stdout",
     "output_type": "stream",
     "text": [
      "epoch: 6 / (30), loss: 0.397611, train acc: 92.10, val acc: 91.78\n",
      "======================================================================\n",
      "Training epoch 7/(30)\n",
      "----------------------------------------------------------------------\n"
     ]
    },
    {
     "name": "stderr",
     "output_type": "stream",
     "text": [
      "iteration: 299 / (300), loss: 0.271985: 100%|██████████| 300/300 [00:01<00:00, 207.33it/s]\n"
     ]
    },
    {
     "name": "stdout",
     "output_type": "stream",
     "text": [
      "epoch: 7 / (30), loss: 0.364730, train acc: 92.23, val acc: 92.02\n",
      "======================================================================\n",
      "Training epoch 8/(30)\n",
      "----------------------------------------------------------------------\n"
     ]
    },
    {
     "name": "stderr",
     "output_type": "stream",
     "text": [
      "iteration: 299 / (300), loss: 0.280409: 100%|██████████| 300/300 [00:01<00:00, 202.23it/s]\n"
     ]
    },
    {
     "name": "stdout",
     "output_type": "stream",
     "text": [
      "epoch: 8 / (30), loss: 0.342612, train acc: 92.37, val acc: 92.35\n",
      "======================================================================\n",
      "Training epoch 9/(30)\n",
      "----------------------------------------------------------------------\n"
     ]
    },
    {
     "name": "stderr",
     "output_type": "stream",
     "text": [
      "iteration: 299 / (300), loss: 0.406791: 100%|██████████| 300/300 [00:01<00:00, 195.04it/s]\n"
     ]
    },
    {
     "name": "stdout",
     "output_type": "stream",
     "text": [
      "epoch: 9 / (30), loss: 0.322877, train acc: 92.85, val acc: 92.57\n",
      "======================================================================\n",
      "Training epoch 10/(30)\n",
      "----------------------------------------------------------------------\n"
     ]
    },
    {
     "name": "stderr",
     "output_type": "stream",
     "text": [
      "iteration: 299 / (300), loss: 0.342275: 100%|██████████| 300/300 [00:01<00:00, 198.79it/s]\n"
     ]
    },
    {
     "name": "stdout",
     "output_type": "stream",
     "text": [
      "epoch: 10 / (30), loss: 0.307165, train acc: 93.03, val acc: 92.92\n",
      "======================================================================\n",
      "Training epoch 11/(30)\n",
      "----------------------------------------------------------------------\n"
     ]
    },
    {
     "name": "stderr",
     "output_type": "stream",
     "text": [
      "iteration: 299 / (300), loss: 0.234233: 100%|██████████| 300/300 [00:01<00:00, 213.56it/s]\n"
     ]
    },
    {
     "name": "stdout",
     "output_type": "stream",
     "text": [
      "epoch: 11 / (30), loss: 0.292922, train acc: 93.13, val acc: 92.87\n",
      "======================================================================\n",
      "Training epoch 12/(30)\n",
      "----------------------------------------------------------------------\n"
     ]
    },
    {
     "name": "stderr",
     "output_type": "stream",
     "text": [
      "iteration: 299 / (300), loss: 0.281473: 100%|██████████| 300/300 [00:01<00:00, 213.16it/s]\n"
     ]
    },
    {
     "name": "stdout",
     "output_type": "stream",
     "text": [
      "epoch: 12 / (30), loss: 0.281901, train acc: 93.49, val acc: 92.98\n",
      "======================================================================\n",
      "Training epoch 13/(30)\n",
      "----------------------------------------------------------------------\n"
     ]
    },
    {
     "name": "stderr",
     "output_type": "stream",
     "text": [
      "iteration: 299 / (300), loss: 0.263325: 100%|██████████| 300/300 [00:01<00:00, 210.11it/s]\n"
     ]
    },
    {
     "name": "stdout",
     "output_type": "stream",
     "text": [
      "epoch: 13 / (30), loss: 0.274330, train acc: 93.56, val acc: 93.35\n",
      "======================================================================\n",
      "Training epoch 14/(30)\n",
      "----------------------------------------------------------------------\n"
     ]
    },
    {
     "name": "stderr",
     "output_type": "stream",
     "text": [
      "iteration: 299 / (300), loss: 0.239021: 100%|██████████| 300/300 [00:01<00:00, 213.26it/s]\n"
     ]
    },
    {
     "name": "stdout",
     "output_type": "stream",
     "text": [
      "epoch: 14 / (30), loss: 0.263180, train acc: 93.69, val acc: 93.68\n",
      "======================================================================\n",
      "Training epoch 15/(30)\n",
      "----------------------------------------------------------------------\n"
     ]
    },
    {
     "name": "stderr",
     "output_type": "stream",
     "text": [
      "iteration: 299 / (300), loss: 0.339029: 100%|██████████| 300/300 [00:01<00:00, 207.27it/s]\n"
     ]
    },
    {
     "name": "stdout",
     "output_type": "stream",
     "text": [
      "epoch: 15 / (30), loss: 0.256566, train acc: 93.81, val acc: 93.85\n",
      "======================================================================\n",
      "Training epoch 16/(30)\n",
      "----------------------------------------------------------------------\n"
     ]
    },
    {
     "name": "stderr",
     "output_type": "stream",
     "text": [
      "iteration: 299 / (300), loss: 0.291084: 100%|██████████| 300/300 [00:01<00:00, 207.89it/s]\n"
     ]
    },
    {
     "name": "stdout",
     "output_type": "stream",
     "text": [
      "epoch: 16 / (30), loss: 0.250525, train acc: 93.94, val acc: 93.88\n",
      "======================================================================\n",
      "Training epoch 17/(30)\n",
      "----------------------------------------------------------------------\n"
     ]
    },
    {
     "name": "stderr",
     "output_type": "stream",
     "text": [
      "iteration: 299 / (300), loss: 0.276121: 100%|██████████| 300/300 [00:01<00:00, 216.68it/s]\n"
     ]
    },
    {
     "name": "stdout",
     "output_type": "stream",
     "text": [
      "epoch: 17 / (30), loss: 0.243072, train acc: 93.94, val acc: 93.78\n",
      "======================================================================\n",
      "Training epoch 18/(30)\n",
      "----------------------------------------------------------------------\n"
     ]
    },
    {
     "name": "stderr",
     "output_type": "stream",
     "text": [
      "iteration: 299 / (300), loss: 0.230794: 100%|██████████| 300/300 [00:01<00:00, 212.04it/s]\n"
     ]
    },
    {
     "name": "stdout",
     "output_type": "stream",
     "text": [
      "epoch: 18 / (30), loss: 0.238615, train acc: 93.92, val acc: 93.95\n",
      "======================================================================\n",
      "Training epoch 19/(30)\n",
      "----------------------------------------------------------------------\n"
     ]
    },
    {
     "name": "stderr",
     "output_type": "stream",
     "text": [
      "iteration: 299 / (300), loss: 0.220241: 100%|██████████| 300/300 [00:01<00:00, 214.07it/s]\n"
     ]
    },
    {
     "name": "stdout",
     "output_type": "stream",
     "text": [
      "epoch: 19 / (30), loss: 0.233266, train acc: 94.17, val acc: 93.90\n",
      "======================================================================\n",
      "Training epoch 20/(30)\n",
      "----------------------------------------------------------------------\n"
     ]
    },
    {
     "name": "stderr",
     "output_type": "stream",
     "text": [
      "iteration: 299 / (300), loss: 0.218983: 100%|██████████| 300/300 [00:01<00:00, 216.76it/s]\n"
     ]
    },
    {
     "name": "stdout",
     "output_type": "stream",
     "text": [
      "epoch: 20 / (30), loss: 0.229372, train acc: 94.37, val acc: 94.48\n",
      "======================================================================\n",
      "Training epoch 21/(30)\n",
      "----------------------------------------------------------------------\n"
     ]
    },
    {
     "name": "stderr",
     "output_type": "stream",
     "text": [
      "iteration: 299 / (300), loss: 0.210095: 100%|██████████| 300/300 [00:01<00:00, 215.61it/s]\n"
     ]
    },
    {
     "name": "stdout",
     "output_type": "stream",
     "text": [
      "epoch: 21 / (30), loss: 0.223706, train acc: 94.32, val acc: 94.05\n",
      "======================================================================\n",
      "Training epoch 22/(30)\n",
      "----------------------------------------------------------------------\n"
     ]
    },
    {
     "name": "stderr",
     "output_type": "stream",
     "text": [
      "iteration: 299 / (300), loss: 0.328155: 100%|██████████| 300/300 [00:01<00:00, 211.43it/s]\n"
     ]
    },
    {
     "name": "stdout",
     "output_type": "stream",
     "text": [
      "epoch: 22 / (30), loss: 0.219774, train acc: 94.52, val acc: 94.42\n",
      "======================================================================\n",
      "Training epoch 23/(30)\n",
      "----------------------------------------------------------------------\n"
     ]
    },
    {
     "name": "stderr",
     "output_type": "stream",
     "text": [
      "iteration: 299 / (300), loss: 0.211495: 100%|██████████| 300/300 [00:01<00:00, 210.12it/s]\n"
     ]
    },
    {
     "name": "stdout",
     "output_type": "stream",
     "text": [
      "epoch: 23 / (30), loss: 0.216219, train acc: 94.63, val acc: 94.32\n",
      "======================================================================\n",
      "Training epoch 24/(30)\n",
      "----------------------------------------------------------------------\n"
     ]
    },
    {
     "name": "stderr",
     "output_type": "stream",
     "text": [
      "iteration: 299 / (300), loss: 0.193965: 100%|██████████| 300/300 [00:01<00:00, 215.69it/s]\n"
     ]
    },
    {
     "name": "stdout",
     "output_type": "stream",
     "text": [
      "epoch: 24 / (30), loss: 0.210806, train acc: 94.88, val acc: 94.68\n",
      "======================================================================\n",
      "Training epoch 25/(30)\n",
      "----------------------------------------------------------------------\n"
     ]
    },
    {
     "name": "stderr",
     "output_type": "stream",
     "text": [
      "iteration: 299 / (300), loss: 0.230996: 100%|██████████| 300/300 [00:01<00:00, 211.43it/s]\n"
     ]
    },
    {
     "name": "stdout",
     "output_type": "stream",
     "text": [
      "epoch: 25 / (30), loss: 0.209302, train acc: 94.79, val acc: 94.77\n",
      "======================================================================\n",
      "Training epoch 26/(30)\n",
      "----------------------------------------------------------------------\n"
     ]
    },
    {
     "name": "stderr",
     "output_type": "stream",
     "text": [
      "iteration: 299 / (300), loss: 0.192211: 100%|██████████| 300/300 [00:01<00:00, 213.16it/s]\n"
     ]
    },
    {
     "name": "stdout",
     "output_type": "stream",
     "text": [
      "epoch: 26 / (30), loss: 0.205384, train acc: 94.70, val acc: 94.70\n",
      "======================================================================\n",
      "Training epoch 27/(30)\n",
      "----------------------------------------------------------------------\n"
     ]
    },
    {
     "name": "stderr",
     "output_type": "stream",
     "text": [
      "iteration: 299 / (300), loss: 0.161870: 100%|██████████| 300/300 [00:01<00:00, 205.67it/s]\n"
     ]
    },
    {
     "name": "stdout",
     "output_type": "stream",
     "text": [
      "epoch: 27 / (30), loss: 0.202842, train acc: 94.98, val acc: 94.82\n",
      "======================================================================\n",
      "Training epoch 28/(30)\n",
      "----------------------------------------------------------------------\n"
     ]
    },
    {
     "name": "stderr",
     "output_type": "stream",
     "text": [
      "iteration: 299 / (300), loss: 0.211408: 100%|██████████| 300/300 [00:01<00:00, 202.03it/s]\n"
     ]
    },
    {
     "name": "stdout",
     "output_type": "stream",
     "text": [
      "epoch: 28 / (30), loss: 0.195967, train acc: 94.99, val acc: 94.82\n",
      "======================================================================\n",
      "Training epoch 29/(30)\n",
      "----------------------------------------------------------------------\n"
     ]
    },
    {
     "name": "stderr",
     "output_type": "stream",
     "text": [
      "iteration: 299 / (300), loss: 0.184717: 100%|██████████| 300/300 [00:01<00:00, 212.59it/s]\n"
     ]
    },
    {
     "name": "stdout",
     "output_type": "stream",
     "text": [
      "epoch: 29 / (30), loss: 0.194979, train acc: 95.22, val acc: 95.03\n",
      "======================================================================\n",
      "Training epoch 30/(30)\n",
      "----------------------------------------------------------------------\n"
     ]
    },
    {
     "name": "stderr",
     "output_type": "stream",
     "text": [
      "iteration: 299 / (300), loss: 0.156855: 100%|██████████| 300/300 [00:01<00:00, 208.64it/s]\n"
     ]
    },
    {
     "name": "stdout",
     "output_type": "stream",
     "text": [
      "epoch: 30 / (30), loss: 0.191530, train acc: 95.21, val acc: 95.13\n"
     ]
    }
   ],
   "source": [
    "data_dimension = X_train.shape[1]\n",
    "num_hidden_nodes = 50\n",
    "num_classes = 10\n",
    "net = FirstNN(data_dimension, num_hidden_nodes, num_classes)\n",
    "\n",
    "# Train the network\n",
    "stats = net.train(X_train, Y_train, X_val, Y_val, \n",
    "                  num_iters=10000,\n",
    "                  num_epoch=30,\n",
    "                  batch_size=200, \n",
    "                  learning_rate=1e-2, \n",
    "                  verbose=True\n",
    "                 )\n",
    "\n",
    "\n",
    "\n"
   ]
  },
  {
   "cell_type": "code",
   "execution_count": 5,
   "metadata": {},
   "outputs": [
    {
     "name": "stdout",
     "output_type": "stream",
     "text": [
      "Train accuracy: 95.21\n",
      "Validation accuracy: 95.13\n",
      "Test accuracy: 94.25\n"
     ]
    }
   ],
   "source": [
    "# Predict on the train set\n",
    "Y_train_pred = net.predict(X_train, best_param=True)\n",
    "train_acc = 100*(Y_train_pred == Y_train).mean()\n",
    "print('Train accuracy: {:.2f}' .format(train_acc))\n",
    "\n",
    "# Predict on the validation set\n",
    "Y_val_pred = net.predict(X_val, best_param=True)\n",
    "val_acc = 100*(Y_val_pred == Y_val).mean()\n",
    "print('Validation accuracy: {:.2f}' .format(val_acc))\n",
    "\n",
    "# Predict on the test set\n",
    "Y_test_pred = net.predict(X_test, best_param=True)\n",
    "test_acc = 100*(Y_test_pred == Y_test).mean()\n",
    "print('Test accuracy: {:.2f}' .format(test_acc))"
   ]
  },
  {
   "cell_type": "markdown",
   "metadata": {},
   "source": [
    "# Plot the loss."
   ]
  },
  {
   "cell_type": "code",
   "execution_count": 6,
   "metadata": {},
   "outputs": [
    {
     "data": {
      "image/png": "[encoded data removed]",
      "text/plain": [
       "<Figure size 1000x1400 with 3 Axes>"
      ]
     },
     "metadata": {},
     "output_type": "display_data"
    }
   ],
   "source": [
    "# Plot the loss function and train / validation accuracies\n",
    "plt.figure(figsize=(10, 14))    \n",
    "plt.subplot(3, 1, 1)\n",
    "plt.plot(stats['loss_history_batch'])\n",
    "plt.title('Loss history batch wise')\n",
    "plt.xlabel('Iteration')\n",
    "plt.ylabel('Loss')\n",
    "plt.grid(linestyle='--')\n",
    "\n",
    "plt.subplot(3, 1, 2)\n",
    "plt.plot(stats['loss_history_epoch'])\n",
    "plt.title('Loss history epoch wise')\n",
    "plt.xlabel('Iteration')\n",
    "plt.ylabel('Loss')\n",
    "plt.grid(linestyle='--')\n",
    "\n",
    "plt.subplot(3, 1, 3)\n",
    "plt.plot(stats['train_acc_history'], label='train')\n",
    "plt.plot(stats['val_acc_history'], label='val')\n",
    "plt.title('Classification accuracy history')\n",
    "plt.xlabel('Epoch')\n",
    "plt.ylabel('Clasification accuracy')\n",
    "plt.grid(linestyle='--')\n",
    "plt.legend()\n",
    "plt.show()"
   ]
  },
  {
   "cell_type": "markdown",
   "metadata": {},
   "source": [
    "# TODO: Tune your hyperparameters:\n",
    "    - Learning rate:\n",
    "    - Number of nodes in hidden layer:\n"
   ]
  },
  {
   "cell_type": "code",
   "execution_count": 7,
   "metadata": {},
   "outputs": [
    {
     "name": "stderr",
     "output_type": "stream",
     "text": [
      "c:\\Users\\DEBARSHI\\Documents\\Programs\\Python\\Deep Learning and Natural Language Processing, DA345\\first_nn_exc.py:27: RuntimeWarning: overflow encountered in exp\n",
      "  return 1/(1 + np.exp(-z))\n"
     ]
    },
    {
     "name": "stdout",
     "output_type": "stream",
     "text": [
      "Best validation accuracy achieved during cross-validation: 96.88 for #hdnn: 100, lr: 0.01\n"
     ]
    }
   ],
   "source": [
    "best_net = None # store the best model into this \n",
    "\n",
    "#################################################################################\n",
    "# TODO: Tune hyperparameters using the validation set. Store your best trained  #\n",
    "# model in best_net.                                                            #\n",
    "#################################################################################\n",
    "results = {}\n",
    "best_val = 0\n",
    "best_net = None\n",
    "learning_rates = [1e-3, 5e-3, 7e-3, 1e-2, 5e-2, 1e-1]\n",
    "num_hidden_nodes = [30, 50, 60, 70, 100]\n",
    "num_classes = 10\n",
    "num_iters = 5000\n",
    "num_epoch = 30\n",
    "batch_size = 256\n",
    "\n",
    "for lr in learning_rates:\n",
    "    for hnn in num_hidden_nodes:\n",
    "        if hnn not in results:\n",
    "            results[hnn]={}\n",
    "        net=FirstNN(data_dimension,hnn,num_classes)\n",
    "        out=net.train(X_train,Y_train,X_val,Y_val,num_iters=num_iters,num_epoch=num_epoch,batch_size=batch_size,learning_rate=lr,verbose=False)\n",
    "        Y_val_pred=net.predict(X_val,best_param=True)\n",
    "        val_acc=100*(Y_val_pred==Y_val).mean()\n",
    "        results[hnn,lr]=\n",
    "        val_acc\n",
    "        if val_acc > best_val:\n",
    "            best_val=val_acc\n",
    "            best_net=net\n",
    "            best_net.best_params=net.params\n",
    "            best_net.learning_rate=lr\n",
    "            \n",
    "\n",
    "\n",
    "# Print best results.\n",
    "print('Best validation accuracy achieved during cross-validation: {:.2f} for #hdnn: {}, lr: {}' .format(best_val, best_net.best_params['W1'].shape[1], best_net.learning_rate))\n",
    "#################################################################################\n",
    "#                               END OF YOUR CODE                                #\n",
    "#################################################################################"
   ]
  },
  {
   "cell_type": "code",
   "execution_count": null,
   "metadata": {},
   "outputs": [],
   "source": []
  },
  {
   "cell_type": "markdown",
   "metadata": {},
   "source": [
    "# Test on best model"
   ]
  },
  {
   "cell_type": "code",
   "execution_count": 8,
   "metadata": {},
   "outputs": [
    {
     "name": "stdout",
     "output_type": "stream",
     "text": [
      "Train accuracy: 96.90\n",
      "Validation accuracy: 96.88\n",
      "Test accuracy: 95.25\n"
     ]
    }
   ],
   "source": [
    "# Predict on the train set\n",
    "Y_train_pred = best_net.predict(X_train, best_param=True)\n",
    "train_acc = 100*(Y_train_pred == Y_train).mean()\n",
    "print('Train accuracy: {:.2f}' .format(train_acc))\n",
    "\n",
    "# Predict on the validation set\n",
    "Y_val_pred = best_net.predict(X_val, best_param=True)\n",
    "val_acc = 100*(Y_val_pred == Y_val).mean()\n",
    "print('Validation accuracy: {:.2f}' .format(val_acc))\n",
    "\n",
    "# Predict on the test set\n",
    "Y_test_pred = best_net.predict(X_test, best_param=True)\n",
    "test_acc = 100*(Y_test_pred == Y_test).mean()\n",
    "print('Test accuracy: {:.2f}' .format(test_acc))"
   ]
  },
  {
   "cell_type": "code",
   "execution_count": null,
   "metadata": {},
   "outputs": [],
   "source": []
  }
 ],
 "metadata": {
  "kernelspec": {
   "display_name": "Python 3",
   "language": "python",
   "name": "python3"
  },
  "language_info": {
   "codemirror_mode": {
    "name": "ipython",
    "version": 3
   },
   "file_extension": ".py",
   "mimetype": "text/x-python",
   "name": "python",
   "nbconvert_exporter": "python",
   "pygments_lexer": "ipython3",
   "version": "3.12.8"
  }
 },
 "nbformat": 4,
 "nbformat_minor": 1
}
